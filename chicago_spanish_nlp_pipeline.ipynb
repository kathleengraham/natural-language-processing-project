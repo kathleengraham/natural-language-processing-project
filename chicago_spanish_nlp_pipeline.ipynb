{
 "cells": [
  {
   "cell_type": "code",
   "execution_count": 11,
   "metadata": {},
   "outputs": [],
   "source": [
    "import requests"
   ]
  },
  {
   "cell_type": "code",
   "execution_count": 12,
   "metadata": {},
   "outputs": [],
   "source": [
    "import spacy\n",
    "nlp = spacy.load(\"es_core_news_sm\")"
   ]
  },
  {
   "cell_type": "code",
   "execution_count": 15,
   "metadata": {},
   "outputs": [],
   "source": [
    "url = 'https://es.wikipedia.org/w/api.php?action=query&format=json&titles=Chicago'"
   ]
  },
  {
   "cell_type": "code",
   "execution_count": 16,
   "metadata": {},
   "outputs": [
    {
     "data": {
      "text/plain": [
       "{'12924': {'pageid': 12924, 'ns': 0, 'title': 'Chicago'}}"
      ]
     },
     "execution_count": 16,
     "metadata": {},
     "output_type": "execute_result"
    }
   ],
   "source": [
    "span_article_response = requests.get(url).json()\n",
    "span_article_response['query']['pages']"
   ]
  },
  {
   "cell_type": "code",
   "execution_count": 4,
   "metadata": {},
   "outputs": [
    {
     "data": {
      "text/plain": [
       "'Chicago, conocida coloquialmente como «la Segunda Ciudad» o «la Ciudad de los Vientos», es la tercera ciudad con mayor número de habitantes en Estados Unidos, detrás de Nueva York y Los Ángeles.Chicago se encuentra en el estado de Illinois, a lo largo de la costa suroeste del lago Míchigan, y es la sede del condado de Cook. Forma parte del área metropolitana de Chicago, una conurbación integrada además por los condados periféricos.'"
      ]
     },
     "execution_count": 4,
     "metadata": {},
     "output_type": "execute_result"
    }
   ],
   "source": [
    "import wikipedia\n",
    "wikipedia.set_lang('es')\n",
    "summary = wikipedia.summary('Chicago')\n",
    "summary = summary.replace('\\n','').replace(\"\\'\",\"\").replace(\"[1]\",\"\").replace(\"[2]\",\"\").replace(\"[3]\",\"\").replace(\"[4]\",\"\").replace(\"[5]\",\"\").replace(\"[6]\",\"\").replace(\"[7]\",\"\").replace(\"\\u200b\",\"\")\n",
    "summary"
   ]
  },
  {
   "cell_type": "code",
   "execution_count": 5,
   "metadata": {},
   "outputs": [],
   "source": [
    "import spacy\n",
    "import textacy.extract"
   ]
  },
  {
   "cell_type": "code",
   "execution_count": 6,
   "metadata": {},
   "outputs": [],
   "source": [
    "# load large Spanish NLP model\n",
    "nlp = spacy.load(\"es_core_news_sm\")"
   ]
  },
  {
   "cell_type": "code",
   "execution_count": 7,
   "metadata": {},
   "outputs": [],
   "source": [
    "# text we want to examine\n",
    "text = summary"
   ]
  },
  {
   "cell_type": "code",
   "execution_count": 8,
   "metadata": {},
   "outputs": [],
   "source": [
    "# parse the text with spaCy (runs the entire pipeline)\n",
    "doc = nlp(text)"
   ]
  },
  {
   "cell_type": "code",
   "execution_count": 9,
   "metadata": {},
   "outputs": [],
   "source": [
    "# extract semi-structured statements\n",
    "statements = textacy.extract.semistructured_statements(doc, 'Chicago')"
   ]
  },
  {
   "cell_type": "code",
   "execution_count": 10,
   "metadata": {},
   "outputs": [
    {
     "name": "stdout",
     "output_type": "stream",
     "text": [
      "Here are a few facts about Chicago in Spanish:\n"
     ]
    }
   ],
   "source": [
    "print('Here are a few facts about Chicago in Spanish:')\n",
    "\n",
    "for statement in statements:\n",
    "    subject, verb, fact = statement\n",
    "    print(f' - {verb} {fact}')"
   ]
  },
  {
   "cell_type": "code",
   "execution_count": null,
   "metadata": {},
   "outputs": [],
   "source": []
  }
 ],
 "metadata": {
  "kernelspec": {
   "display_name": "Python 3",
   "language": "python",
   "name": "python3"
  },
  "language_info": {
   "codemirror_mode": {
    "name": "ipython",
    "version": 3
   },
   "file_extension": ".py",
   "mimetype": "text/x-python",
   "name": "python",
   "nbconvert_exporter": "python",
   "pygments_lexer": "ipython3",
   "version": "3.7.3"
  }
 },
 "nbformat": 4,
 "nbformat_minor": 2
}
