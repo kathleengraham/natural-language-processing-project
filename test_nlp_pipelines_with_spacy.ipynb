{
 "cells": [
  {
   "cell_type": "markdown",
   "metadata": {},
   "source": [
    "# Test 1"
   ]
  },
  {
   "cell_type": "code",
   "execution_count": 1,
   "metadata": {},
   "outputs": [],
   "source": [
    "import spacy"
   ]
  },
  {
   "cell_type": "code",
   "execution_count": 2,
   "metadata": {},
   "outputs": [],
   "source": [
    "# Load the large English NLP model\n",
    "nlp = spacy.load('en_core_web_lg')"
   ]
  },
  {
   "cell_type": "code",
   "execution_count": 3,
   "metadata": {},
   "outputs": [],
   "source": [
    "# The text we want to examine\n",
    "text = \"\"\"Chicago ( (listen), locally also ), officially the City of Chicago, is the most populous city in the U.S. state of Illinois and the third most populous city in the United States. With an estimated population of 2,705,994 (2018), it is also the most populous city in the Midwestern United States. Chicago is the county seat of Cook County, the second most populous county in the US, with portions of the northwest city limits extending into DuPage County near O'Hare Airport. Chicago is the principal city of the Chicago metropolitan area, often referred to as Chicagoland. At nearly 10 million people, the metropolitan area is the third most populous in the nation.\n",
    "\"\"\""
   ]
  },
  {
   "cell_type": "code",
   "execution_count": 4,
   "metadata": {},
   "outputs": [],
   "source": [
    "# Parse the text with spaCy. This runs the entire pipeline.\n",
    "doc = nlp(text)"
   ]
  },
  {
   "cell_type": "code",
   "execution_count": 5,
   "metadata": {},
   "outputs": [
    {
     "name": "stdout",
     "output_type": "stream",
     "text": [
      "Chicago (GPE)\n",
      "the City of Chicago (GPE)\n",
      "U.S. (GPE)\n",
      "Illinois (GPE)\n",
      "third (ORDINAL)\n",
      "the United States (GPE)\n",
      "2,705,994 (CARDINAL)\n",
      "2018 (DATE)\n",
      "the Midwestern United States (GPE)\n",
      "Chicago (GPE)\n",
      "Cook County (GPE)\n",
      "second (ORDINAL)\n",
      "US (GPE)\n",
      "DuPage County (GPE)\n",
      "O'Hare Airport (FAC)\n",
      "Chicago (GPE)\n",
      "Chicago (GPE)\n",
      "Chicagoland (GPE)\n",
      "nearly 10 million (CARDINAL)\n",
      "third (ORDINAL)\n"
     ]
    }
   ],
   "source": [
    "# 'doc' now contains a parsed version of text. We can use it to do anything we want!\n",
    "# For example, this will print out all the named entities that were detected:\n",
    "for entity in doc.ents:\n",
    "    print(f\"{entity.text} ({entity.label_})\")"
   ]
  },
  {
   "cell_type": "markdown",
   "metadata": {},
   "source": [
    "# Test 2"
   ]
  },
  {
   "cell_type": "code",
   "execution_count": 6,
   "metadata": {},
   "outputs": [],
   "source": [
    "import spacy\n",
    "\n",
    "# Load the large English NLP model\n",
    "nlp = spacy.load('en_core_web_lg')"
   ]
  },
  {
   "cell_type": "code",
   "execution_count": 7,
   "metadata": {},
   "outputs": [],
   "source": [
    "# Replace a token with \"REDACTED\" if it is a name\n",
    "def replace_name_with_placeholder(token):\n",
    "    if token.ent_iob != 0 and token.ent_type_ == \"PERSON\":\n",
    "        return \"[REDACTED] \"\n",
    "    else:\n",
    "        return token.string"
   ]
  },
  {
   "cell_type": "code",
   "execution_count": 8,
   "metadata": {},
   "outputs": [],
   "source": [
    "# Loop through all the entities in a document and check if they are names\n",
    "def scrub(text):\n",
    "    doc = nlp(text)\n",
    "    for ent in doc.ents:\n",
    "        ent.merge()\n",
    "    tokens = map(replace_name_with_placeholder, doc)\n",
    "    return \"\".join(tokens)"
   ]
  },
  {
   "cell_type": "code",
   "execution_count": 9,
   "metadata": {},
   "outputs": [],
   "source": [
    "s = \"\"\"\n",
    "In 1950, Alan Turing published his famous article \"Computing Machinery and Intelligence\". In 1957, Noam Chomsky’s \n",
    "Syntactic Structures revolutionized Linguistics with 'universal grammar', a rule based system of syntactic structures.\n",
    "\"\"\""
   ]
  },
  {
   "cell_type": "code",
   "execution_count": 10,
   "metadata": {},
   "outputs": [
    {
     "name": "stdout",
     "output_type": "stream",
     "text": [
      "\n",
      "In 1950, [REDACTED] published his famous article \"Computing Machinery and Intelligence\". In 1957, [REDACTED] \n",
      "Syntactic Structures revolutionized Linguistics with 'universal grammar', a rule based system of syntactic structures.\n",
      "\n"
     ]
    }
   ],
   "source": [
    "print(scrub(s))"
   ]
  },
  {
   "cell_type": "markdown",
   "metadata": {},
   "source": [
    "# Test 3"
   ]
  },
  {
   "cell_type": "code",
   "execution_count": 11,
   "metadata": {},
   "outputs": [],
   "source": [
    "import spacy\n",
    "import textacy.extract\n",
    "\n",
    "# Load the large English NLP model\n",
    "nlp = spacy.load('en_core_web_lg')"
   ]
  },
  {
   "cell_type": "code",
   "execution_count": 12,
   "metadata": {},
   "outputs": [],
   "source": [
    "# The text we want to examine\n",
    "text = \"\"\"Chicago, officially the City of Chicago, is the most populous city in the U.S. state of Illinois and the third \n",
    "most populous city in the United States. With an estimated population of 2,705,994 (2018), it is also the most populous \n",
    "city in the Midwestern United States. Chicago is the county seat of Cook County, the second most populous county in the US,\n",
    "with portions of the northwest city limits extending into DuPage County near O'Hare Airport. Chicago is the principal city \n",
    "of the Chicago metropolitan area, often referred to as Chicagoland. At nearly 10 million people, the metropolitan area is \n",
    "the third most populous in the nation.\n",
    "Located on the shores of freshwater Lake Michigan, Chicago was incorporated as a city in 1837 near a portage between the \n",
    "Great Lakes and the Mississippi River watershed and grew rapidly in the mid-19th century. After the Great Chicago Fire of \n",
    "1871, which destroyed several square miles and left more than 100,000 homeless, the city made a concerted effort to rebuild.\n",
    "The construction boom accelerated population growth throughout the following decades, and by 1900, less than 30 years after\n",
    "the great fire, Chicago was the fifth-largest city in the world. Chicago made noted contributions to urban planning and \n",
    "zoning standards, including new construction styles (including the Chicago School of architecture), the development of the\n",
    "City Beautiful Movement, and the steel-framed skyscraper.Chicago is an international hub for finance, culture, commerce, \n",
    "industry, education, technology, telecommunications, and transportation. It is the site of the creation of the first \n",
    "standardized futures contracts, issued by the Chicago Board of Trade, which today is the largest and most diverse \n",
    "derivatives market in the world, generating 20% of all volume in commodities and financial futures alone. Depending on the\n",
    "particular year, the city's O'Hare International Airport is routinely ranked as the world's first or second busiest airport\n",
    "according to tracked data by the Airports Council International. The region also has the largest number of federal highways\n",
    "and is the nation's railroad hub. Chicago was listed as an alpha global city by the Globalization and World Cities Research\n",
    "Network, and it ranked seventh in the entire world in the 2017 Global Cities Index. The Chicago area has one of the highest\n",
    "gross domestic products (GDP) in the world, generating $680 billion in 2017. In addition, the city has one of the world's \n",
    "most diversified and balanced economies, with no single industry employing more than 14% of the workforce. Chicago is home\n",
    "to several Fortune 500 companies, including Allstate, Boeing, Exelon, Kraft Heinz, McDonald's, Mondelez International, \n",
    "Sears, United Airlines Holdings, and Walgreens.\n",
    "Chicago's 58 million domestic and international visitors in 2018 made it the second most visited city in the nation, not \n",
    "far behind New York City's 65 million visitors in 2018. The city was ranked first in the 2018 Time Out City Life Index, a\n",
    "global quality of life survey of 15,000 people in 32 cities. Landmarks in the city include Millennium Park, Navy Pier, the\n",
    "Magnificent Mile, the Art Institute of Chicago, Museum Campus, the Willis (Sears) Tower, Grant Park, the Museum of Science\n",
    "and Industry, and Lincoln Park Zoo. Chicago's culture includes the visual arts, literature, film, theatre, comedy \n",
    "(especially improvisational comedy), food, and music, particularly jazz, blues, soul, hip-hop, gospel, and electronic \n",
    "dance music including house music. Of the area's many colleges and universities, the University of Chicago, Northwestern University, and the University of Illinois at Chicago are classified as \"highest research\" doctoral universities.  Chicago has professional sports teams in each of the major professional leagues, including two Major League Baseball teams.\n",
    "\"\"\"\n",
    "\n",
    "# Parse the document with spaCy\n",
    "doc = nlp(text)"
   ]
  },
  {
   "cell_type": "code",
   "execution_count": 13,
   "metadata": {},
   "outputs": [],
   "source": [
    "# Extract semi-structured statements\n",
    "statements = textacy.extract.semistructured_statements(doc, \"Chicago\")"
   ]
  },
  {
   "cell_type": "code",
   "execution_count": 14,
   "metadata": {},
   "outputs": [
    {
     "name": "stdout",
     "output_type": "stream",
     "text": [
      "Here are the things I know about Chicago:\n",
      " - the most populous city in the U.S. state of Illinois and the third \n",
      "most populous city in the United States\n",
      " - the principal city \n",
      "of the Chicago metropolitan area, often referred to as Chicagoland\n",
      " - the fifth-largest city in the world\n",
      " - an international hub for finance, culture, commerce, \n",
      "industry, education, technology, telecommunications, and transportation\n"
     ]
    }
   ],
   "source": [
    "# Print the results\n",
    "print(\"Here are the things I know about Chicago:\")\n",
    "\n",
    "for statement in statements:\n",
    "    subject, verb, fact = statement\n",
    "    print(f\" - {fact}\")"
   ]
  },
  {
   "cell_type": "code",
   "execution_count": null,
   "metadata": {},
   "outputs": [],
   "source": []
  }
 ],
 "metadata": {
  "kernelspec": {
   "display_name": "Python 3",
   "language": "python",
   "name": "python3"
  },
  "language_info": {
   "codemirror_mode": {
    "name": "ipython",
    "version": 3
   },
   "file_extension": ".py",
   "mimetype": "text/x-python",
   "name": "python",
   "nbconvert_exporter": "python",
   "pygments_lexer": "ipython3",
   "version": "3.7.3"
  }
 },
 "nbformat": 4,
 "nbformat_minor": 2
}
